{
  "nbformat": 4,
  "nbformat_minor": 0,
  "metadata": {
    "colab": {
      "provenance": [],
      "include_colab_link": true
    },
    "kernelspec": {
      "name": "python3",
      "display_name": "Python 3"
    },
    "language_info": {
      "name": "python"
    }
  },
  "cells": [
    {
      "cell_type": "markdown",
      "metadata": {
        "id": "view-in-github",
        "colab_type": "text"
      },
      "source": [
        "<a href=\"https://colab.research.google.com/github/AnaBeCosta/processo-womakerscode/blob/main/3_WoMakersCode_Bootcamp_Data_Analytics_(2025_2)_Modelo_3.ipynb\" target=\"_parent\"><img src=\"https://colab.research.google.com/assets/colab-badge.svg\" alt=\"Open In Colab\"/></a>"
      ]
    },
    {
      "cell_type": "markdown",
      "source": [
        "ANA BEATRIZ FARIA COSTA"
      ],
      "metadata": {
        "id": "6YOsXvBtPWk8"
      }
    },
    {
      "cell_type": "markdown",
      "source": [
        "DESAFIO 1\n",
        "\n",
        "Solicite três notas (de 0 a 10), calcule a média e exiba o conceito correspondente:\n",
        "\n",
        "A: média ≥ 9\n",
        "\n",
        "B: média ≥ 7 e < 9\n",
        "\n",
        "C: média ≥ 6 e < 7\n",
        "\n",
        "D: média < 6\n",
        "\n",
        "Informe o conceito e se o aluno foi aprovado (conceito A, B ou C) ou reprovado (conceito D)."
      ],
      "metadata": {
        "id": "fZu819fMQNKI"
      }
    },
    {
      "cell_type": "code",
      "source": [
        "print('CALCULADORA DE MÉDIA 📝')\n",
        "\n",
        "def ler_nota(notaRef):\n",
        "    while True:\n",
        "        try:\n",
        "            nota = int(input(f'Insira a nota {notaRef} (entre 0 e 10): '))\n",
        "            if 0 <= nota <= 10:\n",
        "                return nota\n",
        "            else:\n",
        "                print('Valor inválido, digite novamente!')\n",
        "        except ValueError:\n",
        "            print('Entrada inválida! Digite um número inteiro.')\n",
        "\n",
        "\n",
        "nota1 = ler_nota(1)\n",
        "nota2 = ler_nota(2)\n",
        "nota3 = ler_nota(3)\n",
        "\n",
        "media = int((nota1 + nota2 + nota3) / 3)\n",
        "\n",
        "print('\\n')\n",
        "if media >=9:\n",
        "  print(f'Média {media}, conceito A.\\nAprovada! 😍')\n",
        "elif 7<= media <9:\n",
        "  print(f'Média {media}, conceito B.\\nAprovada! 😍')\n",
        "elif 6<= media <7:\n",
        "  print(f'Média {media}, conceito C.\\nAprovada! 😍')\n",
        "else:\n",
        "  print(f'Média {media}, conceito D.\\nReprovada 😬')"
      ],
      "metadata": {
        "id": "tjM2VWBwQSJE"
      },
      "execution_count": null,
      "outputs": []
    },
    {
      "cell_type": "markdown",
      "source": [
        "DESAFIO 2\n",
        "\n",
        "Escreva um programa que receba uma string e mostre quantas vezes cada vogal (a, e, i, o, u) aparece na frase."
      ],
      "metadata": {
        "id": "_m8mBod2g9Iv"
      }
    },
    {
      "cell_type": "code",
      "source": [
        "print('👩🏻‍🏫 CALCULADORA DE VOGAIS')\n",
        "\n",
        "palavra = input('Insira a palavra: ')\n",
        "\n",
        "vogais = {\n",
        "    'a': 0,\n",
        "    'e': 0,\n",
        "    'i': 0,\n",
        "    'o': 0,\n",
        "    'u': 0\n",
        "}\n",
        "\n",
        "for i in palavra:\n",
        "  if i in vogais:\n",
        "    vogais[i] += 1\n",
        "\n",
        "print(f'\\nPalavra *{palavra}*')\n",
        "print(' VOGAL    QTD')\n",
        "for letra, quantidade in vogais.items():\n",
        "  print(f'    {letra}  | {quantidade}')"
      ],
      "metadata": {
        "id": "G3MkSdjIfMay"
      },
      "execution_count": null,
      "outputs": []
    },
    {
      "cell_type": "markdown",
      "source": [
        "DESAFIO 3\n",
        "\n",
        "Escreva um programa em que o computador escolhe um número entre 1 e 100.\n",
        "\n",
        "O usuário tenta adivinhar até acertar, e ao final, o programa informa quantas tentativas foram necessárias.\n"
      ],
      "metadata": {
        "id": "azEJl_Q6cFFz"
      }
    },
    {
      "cell_type": "code",
      "source": [
        "import random\n",
        "\n",
        "numeroSorteado = random.randint(1, 100)\n",
        "\n",
        "print('🤸🏼‍♀️ Olá, bem-vinda!\\nTente adivinhar o número escolhido pela máquina, você tem tentativas ilimitadas !\\n')\n",
        "\n",
        "tentativas = 0\n",
        "\n",
        "while True:\n",
        "  tentativas += 1\n",
        "  numeroUsuario = int(input('Escolha um número de 1 a 100\\n'))\n",
        "\n",
        "  if numeroUsuario <1 or numeroUsuario > 100:\n",
        "    print('Número inválido, digite novamente\\n---------------------------------\\n')\n",
        "    continue\n",
        "\n",
        "  diferenca = abs(numeroSorteado - numeroUsuario)\n",
        "\n",
        "  if numeroUsuario == numeroSorteado:\n",
        "    print('ACERTOUUUUU !! 🎉🎉')\n",
        "    print(f'Tentativas : {tentativas}, número sorteado {numeroSorteado}')\n",
        "    break\n",
        "  elif diferenca <= 5:\n",
        "    print('Está perto! 🤩\\n')\n",
        "  elif diferenca > 20 and numeroSorteado < numeroUsuario:\n",
        "    print('Chute muito alto! 🤦🏻‍♀️\\n')\n",
        "  elif diferenca > 20:\n",
        "    print('Chute muito baixo! 🤦🏻‍♀️\\n')\n"
      ],
      "metadata": {
        "id": "4kz8g_Z5qGB1",
        "outputId": "99bcf627-0355-4399-d9c7-6ec491ea1d61",
        "colab": {
          "base_uri": "https://localhost:8080/"
        }
      },
      "execution_count": 5,
      "outputs": [
        {
          "output_type": "stream",
          "name": "stdout",
          "text": [
            "🤸🏼‍♀️ Olá, bem-vinda!\n",
            "Tente adivinhar o número escolhido pela máquina, você tem tentativas ilimitadas !\n",
            "\n",
            "Escolha um número de 1 a 100\n",
            "50\n",
            "Escolha um número de 1 a 100\n",
            "60\n",
            "ACERTOUUUUU !! 🎉🎉\n",
            "Tentativas : 2, número sorteado 60\n"
          ]
        }
      ]
    },
    {
      "cell_type": "markdown",
      "source": [
        "DESAFIO 4\n",
        "\n",
        "Permita ao usuário:\n",
        "\n",
        "Adicionar uma despesa ou receita (descrição, valor, tipo: entrada ou saída)\n",
        "\n",
        "Ver saldo atual\n",
        "\n",
        "Ver todas as transações\n",
        "\n",
        "Sair do programa\n",
        "\n",
        "Calcule e exiba o saldo total com base nas transações."
      ],
      "metadata": {
        "id": "qk4Gw-GAqFjY"
      }
    },
    {
      "cell_type": "code",
      "source": [
        "print('🏦 BANCO WOMARKERS 🦋')\n",
        "\n",
        "transacoes = []\n",
        "\n",
        "def cadastrarTransacao():\n",
        "  tipoTransacao = int(input('\\nInsira o tipo de transação que deseja: (1-Entrada e 2-Saída)\\n'))\n",
        "\n",
        "  if tipoTransacao not in [1, 2]:\n",
        "    print(\"Tipo inválido!\")\n",
        "    return\n",
        "\n",
        "  descricao = input('Insira a descrição da transação:\\n')\n",
        "  valor = float(input('Insira o valor da transação:\\n'))\n",
        "\n",
        "  transacao = {\n",
        "    'tipo': tipoTransacao,\n",
        "    'descricao': descricao,\n",
        "    'valor': valor\n",
        "    }\n",
        "\n",
        "  transacoes.append(transacao)\n",
        "  print(\"Transação cadastrada com sucesso!\")\n",
        "\n",
        "def imprimirTransacao():\n",
        "  print(\"  TIPO TRANSF. | DESCRIÇÃO | VALOR\")\n",
        "  for i, t in enumerate(transacoes, 1):\n",
        "    print(f\"{i}. [{t['tipo']}] {t['descricao']} - R$ {(t['valor'])}\")\n",
        "\n",
        "def imprimirSaldo():\n",
        "  print(f'Salto atual: R${calcularSaldo()}')\n",
        "\n",
        "def calcularSaldo():\n",
        "  valorTotal = 0.0\n",
        "\n",
        "  for i in (transacoes):\n",
        "    if i['tipo'] == 1:\n",
        "      valorTotal += i['valor']\n",
        "    else:\n",
        "      valorTotal -= i['valor']\n",
        "\n",
        "  return valorTotal\n",
        "\n",
        "\n",
        "while True:\n",
        "  servico = int(input('\\nInsira o serviço desejado: \\n1-Adicionar transação\\n2-Ver saldo\\n3-Ver histórico de transações\\n4-Sair\\n5-Calcular e exibir saldo\\n---------------------------\\n'))\n",
        "\n",
        "  if servico == 1:\n",
        "    cadastrarTransacao()\n",
        "  elif servico == 2:\n",
        "    imprimirSaldo()\n",
        "  elif servico == 3:\n",
        "    imprimirTransacao()\n",
        "  elif servico == 4:\n",
        "    print('Tchau, volte sempre 🫶')\n",
        "    break\n",
        "  elif servico == 5:\n",
        "    imprimirSaldo()"
      ],
      "metadata": {
        "id": "FOtsBTYecOUJ"
      },
      "execution_count": null,
      "outputs": []
    },
    {
      "cell_type": "markdown",
      "source": [
        "DESAFIO 5\n",
        "\n",
        "Escreva um programa que peça o valor total da compra e aplique um desconto baseado em faixas:\n",
        "\n",
        "Até R$100 → sem desconto\n",
        "\n",
        "De R$ 100,01 a R$$300 → 10%\n",
        "\n",
        "De R$ 300,01 a R$$500 → 15%\n",
        "\n",
        "\n",
        "Acima de R$500 → 20%"
      ],
      "metadata": {
        "id": "cpVCv8m5QNm9"
      }
    },
    {
      "cell_type": "code",
      "source": [
        "print('CALCULADORA DE DESCONTO 💸\\n')\n",
        "\n",
        "print('Até R$100 → sem desconto\\nDe R$ 100,01 a R$$300 → 10%\\nDe R$ 300,01 a R$$500 → 15%\\nAcima de R$500 → 20%\\n')\n",
        "\n",
        "valorTotal = float(input('Insira o valor total da compra: '))\n",
        "valorComDesconto = 0.0\n",
        "\n",
        "def calcularValorDesconto(valor, porcentagem):\n",
        "  valorCalculado = valor - ((valor * porcentagem)/100)\n",
        "  return valorCalculado\n",
        "\n",
        "if valorTotal > 500:\n",
        "  valorComDesconto = calcularValorDesconto(valorTotal, 20)\n",
        "elif 300 < valorTotal <= 500:\n",
        "  valorComDesconto = calcularValorDesconto(valorTotal, 15)\n",
        "elif 100 < valorTotal <= 300:\n",
        "  valorComDesconto = calcularValorDesconto(valorTotal, 10)\n",
        "else:\n",
        "  valorComDesconto = valorTotal\n",
        "\n",
        "print(f'💰 Valor final R${valorComDesconto}')"
      ],
      "metadata": {
        "id": "rGHbvDFVcGzy",
        "outputId": "e814faef-55ce-482f-a137-663a28dc07a2",
        "colab": {
          "base_uri": "https://localhost:8080/"
        }
      },
      "execution_count": 6,
      "outputs": [
        {
          "output_type": "stream",
          "name": "stdout",
          "text": [
            "CALCULADORA DE DESCONTO 💸\n",
            "\n",
            "Até R$100 → sem desconto\n",
            "De R$ 100,01 a R$$300 → 10%\n",
            "De R$ 300,01 a R$$500 → 15%\n",
            "Acima de R$500 → 20%\n",
            "\n",
            "Insira o valor total da compra: 500\n",
            "💰 Valor final R$425.0\n"
          ]
        }
      ]
    }
  ]
}