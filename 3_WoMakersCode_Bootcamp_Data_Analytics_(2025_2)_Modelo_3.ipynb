{
  "nbformat": 4,
  "nbformat_minor": 0,
  "metadata": {
    "colab": {
      "provenance": [],
      "include_colab_link": true
    },
    "kernelspec": {
      "name": "python3",
      "display_name": "Python 3"
    },
    "language_info": {
      "name": "python"
    }
  },
  "cells": [
    {
      "cell_type": "markdown",
      "metadata": {
        "id": "view-in-github",
        "colab_type": "text"
      },
      "source": [
        "<a href=\"https://colab.research.google.com/github/AnaBeCosta/processo-womakerscode/blob/main/3_WoMakersCode_Bootcamp_Data_Analytics_(2025_2)_Modelo_3.ipynb\" target=\"_parent\"><img src=\"https://colab.research.google.com/assets/colab-badge.svg\" alt=\"Open In Colab\"/></a>"
      ]
    },
    {
      "cell_type": "markdown",
      "source": [
        "DESAFIO 1\n",
        "\n",
        "Solicite três notas (de 0 a 10), calcule a média e exiba o conceito correspondente:\n",
        "\n",
        "A: média ≥ 9\n",
        "\n",
        "B: média ≥ 7 e < 9\n",
        "\n",
        "C: média ≥ 6 e < 7\n",
        "\n",
        "D: média < 6\n",
        "\n",
        "Informe o conceito e se o aluno foi aprovado (conceito A, B ou C) ou reprovado (conceito D)."
      ],
      "metadata": {
        "id": "fZu819fMQNKI"
      }
    },
    {
      "cell_type": "code",
      "source": [
        "#Execute seu código aqui"
      ],
      "metadata": {
        "id": "tjM2VWBwQSJE"
      },
      "execution_count": null,
      "outputs": []
    },
    {
      "cell_type": "markdown",
      "source": [
        "DESAFIO 2\n",
        "\n",
        "Escreva um programa que receba uma string e mostre quantas vezes cada vogal (a, e, i, o, u) aparece na frase."
      ],
      "metadata": {
        "id": "_m8mBod2g9Iv"
      }
    },
    {
      "cell_type": "code",
      "source": [
        "#Execute seu código aqui"
      ],
      "metadata": {
        "id": "G3MkSdjIfMay"
      },
      "execution_count": null,
      "outputs": []
    },
    {
      "cell_type": "markdown",
      "source": [
        "DESAFIO 3\n",
        "\n",
        "Escreva um programa em que o computador escolhe um número entre 1 e 100.\n",
        "\n",
        "O usuário tenta adivinhar até acertar, e ao final, o programa informa quantas tentativas foram necessárias.\n"
      ],
      "metadata": {
        "id": "azEJl_Q6cFFz"
      }
    },
    {
      "cell_type": "code",
      "source": [
        "#Execute seu código aqui"
      ],
      "metadata": {
        "id": "4kz8g_Z5qGB1"
      },
      "execution_count": null,
      "outputs": []
    },
    {
      "cell_type": "markdown",
      "source": [
        "DESAFIO 4\n",
        "\n",
        "Permita ao usuário:\n",
        "\n",
        "Adicionar uma despesa ou receita (descrição, valor, tipo: entrada ou saída)\n",
        "\n",
        "Ver saldo atual\n",
        "\n",
        "Ver todas as transações\n",
        "\n",
        "Sair do programa\n",
        "\n",
        "Calcule e exiba o saldo total com base nas transações."
      ],
      "metadata": {
        "id": "qk4Gw-GAqFjY"
      }
    },
    {
      "cell_type": "code",
      "source": [
        "#Execute seu código aqui"
      ],
      "metadata": {
        "id": "FOtsBTYecOUJ"
      },
      "execution_count": null,
      "outputs": []
    },
    {
      "cell_type": "markdown",
      "source": [
        "DESAFIO 5\n",
        "\n",
        "Escreva um programa que peça o valor total da compra e aplique um desconto baseado em faixas:\n",
        "\n",
        "Até R$100 → sem desconto\n",
        "\n",
        "De R$ 100,01 a R$$300 → 10%\n",
        "\n",
        "De R$ 300,01 a R$$500 → 15%\n",
        "\n",
        "\n",
        "Acima de R$500 → 20%"
      ],
      "metadata": {
        "id": "cpVCv8m5QNm9"
      }
    },
    {
      "cell_type": "code",
      "source": [
        "#Execute seu código aqui"
      ],
      "metadata": {
        "id": "rGHbvDFVcGzy"
      },
      "execution_count": null,
      "outputs": []
    }
  ]
}