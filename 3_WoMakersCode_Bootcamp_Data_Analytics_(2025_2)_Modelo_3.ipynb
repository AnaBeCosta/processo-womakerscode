{
  "nbformat": 4,
  "nbformat_minor": 0,
  "metadata": {
    "colab": {
      "provenance": [],
      "include_colab_link": true
    },
    "kernelspec": {
      "name": "python3",
      "display_name": "Python 3"
    },
    "language_info": {
      "name": "python"
    }
  },
  "cells": [
    {
      "cell_type": "markdown",
      "metadata": {
        "id": "view-in-github",
        "colab_type": "text"
      },
      "source": [
        "<a href=\"https://colab.research.google.com/github/AnaBeCosta/processo-womakerscode/blob/main/3_WoMakersCode_Bootcamp_Data_Analytics_(2025_2)_Modelo_3.ipynb\" target=\"_parent\"><img src=\"https://colab.research.google.com/assets/colab-badge.svg\" alt=\"Open In Colab\"/></a>"
      ]
    },
    {
      "cell_type": "markdown",
      "source": [
        "DESAFIO 1\n",
        "\n",
        "Solicite três notas (de 0 a 10), calcule a média e exiba o conceito correspondente:\n",
        "\n",
        "A: média ≥ 9\n",
        "\n",
        "B: média ≥ 7 e < 9\n",
        "\n",
        "C: média ≥ 6 e < 7\n",
        "\n",
        "D: média < 6\n",
        "\n",
        "Informe o conceito e se o aluno foi aprovado (conceito A, B ou C) ou reprovado (conceito D)."
      ],
      "metadata": {
        "id": "fZu819fMQNKI"
      }
    },
    {
      "cell_type": "code",
      "source": [
        "nota1 = int(input('Insira a nota 1: '))\n",
        "nota2 = int(input('Insira a nota 2: '))\n",
        "nota3 = int(input('Insira a nota 3: '))\n",
        "\n",
        "media = int((nota1 + nota2 + nota3) / 3)\n",
        "\n",
        "print('\\n')\n",
        "if media >=9:\n",
        "  print(f'Média {media}, conceito A.\\nAprovada!')\n",
        "elif 7<= media <9:\n",
        "  print(f'Média {media}, conceito B.\\nAprovada!')\n",
        "elif 6<= media <7:\n",
        "  print(f'Média {media}, conceito C.\\nAprovada!')\n",
        "else:\n",
        "  print(f'Média {media}, conceito D.\\nReprovada :(')"
      ],
      "metadata": {
        "id": "tjM2VWBwQSJE",
        "outputId": "de062716-668f-45fc-a61e-d80ed6db0bb7",
        "colab": {
          "base_uri": "https://localhost:8080/"
        }
      },
      "execution_count": null,
      "outputs": [
        {
          "output_type": "stream",
          "name": "stdout",
          "text": [
            "Insira a nota 1: 10\n",
            "Insira a nota 2: 4\n",
            "Insira a nota 3: 5\n",
            "\n",
            "\n",
            "Média 6, conceito C.\n",
            "Aprovada!\n"
          ]
        }
      ]
    },
    {
      "cell_type": "markdown",
      "source": [
        "DESAFIO 2\n",
        "\n",
        "Escreva um programa que receba uma string e mostre quantas vezes cada vogal (a, e, i, o, u) aparece na frase."
      ],
      "metadata": {
        "id": "_m8mBod2g9Iv"
      }
    },
    {
      "cell_type": "code",
      "source": [],
      "metadata": {
        "id": "6VtjjoslKQM4"
      },
      "execution_count": null,
      "outputs": []
    },
    {
      "cell_type": "code",
      "source": [
        "palavra = input('Insira a palavra: ')\n",
        "\n",
        "vogais = {\n",
        "    'a': 0,\n",
        "    'e': 0,\n",
        "    'i': 0,\n",
        "    'o': 0,\n",
        "    'u': 0\n",
        "}\n",
        "\n",
        "for i in palavra:\n",
        "  if i in vogais:\n",
        "    vogais[i] += 1\n",
        "\n",
        "print('\\n')\n",
        "for letra, quantidade in vogais.items():\n",
        "  print(f'Vogal-{letra}, Qtd.-{quantidade}')"
      ],
      "metadata": {
        "id": "G3MkSdjIfMay",
        "outputId": "8ba43bc9-52bb-4e6a-c410-b02a8141ca90",
        "colab": {
          "base_uri": "https://localhost:8080/"
        }
      },
      "execution_count": 60,
      "outputs": [
        {
          "output_type": "stream",
          "name": "stdout",
          "text": [
            "Insira a palavra: teatro\n",
            "\n",
            "\n",
            "Vogal-a, Qtd.-1\n",
            "Vogal-e, Qtd.-1\n",
            "Vogal-i, Qtd.-0\n",
            "Vogal-o, Qtd.-1\n",
            "Vogal-u, Qtd.-0\n"
          ]
        }
      ]
    },
    {
      "cell_type": "markdown",
      "source": [
        "DESAFIO 3\n",
        "\n",
        "Escreva um programa em que o computador escolhe um número entre 1 e 100.\n",
        "\n",
        "O usuário tenta adivinhar até acertar, e ao final, o programa informa quantas tentativas foram necessárias.\n"
      ],
      "metadata": {
        "id": "azEJl_Q6cFFz"
      }
    },
    {
      "cell_type": "code",
      "source": [
        "import random\n",
        "\n",
        "numeroSorteado = random.randint(1, 100)\n",
        "\n",
        "print('Olá, bem-vinda!\\nTente adivinhar o número escolhido, você tem tentativas ilimitadas\\n')\n",
        "\n",
        "tentativas = 0\n",
        "\n",
        "while True:\n",
        "  tentativas += 1\n",
        "  numeroUsuario = int(input('Escolha um número de 1 a 100\\n'))\n",
        "\n",
        "  if numeroUsuario <1 or numeroUsuario > 100:\n",
        "    print('Número inválido, digite novamente\\n---------------------------------\\n')\n",
        "    continue\n",
        "\n",
        "  diferenca = abs(numeroSorteado - numeroUsuario)\n",
        "\n",
        "  if numeroUsuario == numeroSorteado:\n",
        "    print(f'Tentativas : {tentativas}, número sorteado {numeroSorteado}')\n",
        "    break\n",
        "  elif diferenca <= 5:\n",
        "    print('Está perto!\\n')\n",
        "  elif diferenca > 20 and numeroSorteado < numeroUsuario:\n",
        "    print('Chute muito alto!\\n')\n",
        "  elif diferenca > 20:\n",
        "    print('Chute muito baixo!\\n')\n",
        ""
      ],
      "metadata": {
        "id": "4kz8g_Z5qGB1",
        "outputId": "1fa541e7-e389-4d88-a2d0-562019ee523a",
        "colab": {
          "base_uri": "https://localhost:8080/",
          "height": 512
        }
      },
      "execution_count": 51,
      "outputs": [
        {
          "output_type": "stream",
          "name": "stdout",
          "text": [
            "Olá, bem-vinda!\n",
            "Tente adivinhar o número escolhido, você tem tentativas ilimitadas\n",
            "\n",
            "Escolha um número de 1 a 100\n",
            "110\n",
            "Número inválido, digite novamente\n",
            "---------------------------------\n",
            "\n"
          ]
        },
        {
          "output_type": "error",
          "ename": "KeyboardInterrupt",
          "evalue": "Interrupted by user",
          "traceback": [
            "\u001b[0;31m---------------------------------------------------------------------------\u001b[0m",
            "\u001b[0;31mKeyboardInterrupt\u001b[0m                         Traceback (most recent call last)",
            "\u001b[0;32m/tmp/ipython-input-51-93293652.py\u001b[0m in \u001b[0;36m<cell line: 0>\u001b[0;34m()\u001b[0m\n\u001b[1;32m      9\u001b[0m \u001b[0;32mwhile\u001b[0m \u001b[0;32mTrue\u001b[0m\u001b[0;34m:\u001b[0m\u001b[0;34m\u001b[0m\u001b[0;34m\u001b[0m\u001b[0m\n\u001b[1;32m     10\u001b[0m   \u001b[0mtentativas\u001b[0m \u001b[0;34m+=\u001b[0m \u001b[0;36m1\u001b[0m\u001b[0;34m\u001b[0m\u001b[0;34m\u001b[0m\u001b[0m\n\u001b[0;32m---> 11\u001b[0;31m   \u001b[0mnumeroUsuario\u001b[0m \u001b[0;34m=\u001b[0m \u001b[0mint\u001b[0m\u001b[0;34m(\u001b[0m\u001b[0minput\u001b[0m\u001b[0;34m(\u001b[0m\u001b[0;34m'Escolha um número de 1 a 100\\n'\u001b[0m\u001b[0;34m)\u001b[0m\u001b[0;34m)\u001b[0m\u001b[0;34m\u001b[0m\u001b[0;34m\u001b[0m\u001b[0m\n\u001b[0m\u001b[1;32m     12\u001b[0m \u001b[0;34m\u001b[0m\u001b[0m\n\u001b[1;32m     13\u001b[0m   \u001b[0;32mif\u001b[0m \u001b[0mnumeroUsuario\u001b[0m \u001b[0;34m<\u001b[0m\u001b[0;36m1\u001b[0m \u001b[0;32mor\u001b[0m \u001b[0mnumeroUsuario\u001b[0m \u001b[0;34m>\u001b[0m \u001b[0;36m100\u001b[0m\u001b[0;34m:\u001b[0m\u001b[0;34m\u001b[0m\u001b[0;34m\u001b[0m\u001b[0m\n",
            "\u001b[0;32m/usr/local/lib/python3.11/dist-packages/ipykernel/kernelbase.py\u001b[0m in \u001b[0;36mraw_input\u001b[0;34m(self, prompt)\u001b[0m\n\u001b[1;32m   1175\u001b[0m                 \u001b[0;34m\"raw_input was called, but this frontend does not support input requests.\"\u001b[0m\u001b[0;34m\u001b[0m\u001b[0;34m\u001b[0m\u001b[0m\n\u001b[1;32m   1176\u001b[0m             )\n\u001b[0;32m-> 1177\u001b[0;31m         return self._input_request(\n\u001b[0m\u001b[1;32m   1178\u001b[0m             \u001b[0mstr\u001b[0m\u001b[0;34m(\u001b[0m\u001b[0mprompt\u001b[0m\u001b[0;34m)\u001b[0m\u001b[0;34m,\u001b[0m\u001b[0;34m\u001b[0m\u001b[0;34m\u001b[0m\u001b[0m\n\u001b[1;32m   1179\u001b[0m             \u001b[0mself\u001b[0m\u001b[0;34m.\u001b[0m\u001b[0m_parent_ident\u001b[0m\u001b[0;34m[\u001b[0m\u001b[0;34m\"shell\"\u001b[0m\u001b[0;34m]\u001b[0m\u001b[0;34m,\u001b[0m\u001b[0;34m\u001b[0m\u001b[0;34m\u001b[0m\u001b[0m\n",
            "\u001b[0;32m/usr/local/lib/python3.11/dist-packages/ipykernel/kernelbase.py\u001b[0m in \u001b[0;36m_input_request\u001b[0;34m(self, prompt, ident, parent, password)\u001b[0m\n\u001b[1;32m   1217\u001b[0m             \u001b[0;32mexcept\u001b[0m \u001b[0mKeyboardInterrupt\u001b[0m\u001b[0;34m:\u001b[0m\u001b[0;34m\u001b[0m\u001b[0;34m\u001b[0m\u001b[0m\n\u001b[1;32m   1218\u001b[0m                 \u001b[0;31m# re-raise KeyboardInterrupt, to truncate traceback\u001b[0m\u001b[0;34m\u001b[0m\u001b[0;34m\u001b[0m\u001b[0m\n\u001b[0;32m-> 1219\u001b[0;31m                 \u001b[0;32mraise\u001b[0m \u001b[0mKeyboardInterrupt\u001b[0m\u001b[0;34m(\u001b[0m\u001b[0;34m\"Interrupted by user\"\u001b[0m\u001b[0;34m)\u001b[0m \u001b[0;32mfrom\u001b[0m \u001b[0;32mNone\u001b[0m\u001b[0;34m\u001b[0m\u001b[0;34m\u001b[0m\u001b[0m\n\u001b[0m\u001b[1;32m   1220\u001b[0m             \u001b[0;32mexcept\u001b[0m \u001b[0mException\u001b[0m\u001b[0;34m:\u001b[0m\u001b[0;34m\u001b[0m\u001b[0;34m\u001b[0m\u001b[0m\n\u001b[1;32m   1221\u001b[0m                 \u001b[0mself\u001b[0m\u001b[0;34m.\u001b[0m\u001b[0mlog\u001b[0m\u001b[0;34m.\u001b[0m\u001b[0mwarning\u001b[0m\u001b[0;34m(\u001b[0m\u001b[0;34m\"Invalid Message:\"\u001b[0m\u001b[0;34m,\u001b[0m \u001b[0mexc_info\u001b[0m\u001b[0;34m=\u001b[0m\u001b[0;32mTrue\u001b[0m\u001b[0;34m)\u001b[0m\u001b[0;34m\u001b[0m\u001b[0;34m\u001b[0m\u001b[0m\n",
            "\u001b[0;31mKeyboardInterrupt\u001b[0m: Interrupted by user"
          ]
        }
      ]
    },
    {
      "cell_type": "markdown",
      "source": [
        "DESAFIO 4\n",
        "\n",
        "Permita ao usuário:\n",
        "\n",
        "Adicionar uma despesa ou receita (descrição, valor, tipo: entrada ou saída)\n",
        "\n",
        "Ver saldo atual\n",
        "\n",
        "Ver todas as transações\n",
        "\n",
        "Sair do programa\n",
        "\n",
        "Calcule e exiba o saldo total com base nas transações."
      ],
      "metadata": {
        "id": "qk4Gw-GAqFjY"
      }
    },
    {
      "cell_type": "code",
      "source": [
        "transacoes = []\n",
        "\n",
        "print('Bem-vinda ao banco!')\n",
        "\n",
        "def cadastrarTransacao():\n",
        "  tipoTransacao = int(input('\\nInsira o tipo de transação que deseja: (1-Entrada e 2-Saída)\\n'))\n",
        "\n",
        "  if tipoTransacao not in [1, 2]:\n",
        "    print(\"Tipo inválido!\")\n",
        "  return\n",
        "\n",
        "  descricao = input('Insira a descrição da transação:\\n')\n",
        "  valor = float(input('Insira o valor da transação:\\n'))\n",
        "\n",
        "  transacao = {\n",
        "    'tipo': tipoTransacao,\n",
        "    'descricao': descricao,\n",
        "    'valor': valor\n",
        "    }\n",
        "\n",
        "  transacoes.append(transacao)\n",
        "  print(\"Transação cadastrada com sucesso!\")\n",
        "\n",
        "def imprimirTransacao():\n",
        "  for i, t in enumerate(transacoes, 1):\n",
        "    print(f\"{i}. [{t['tipo']}] {t['descricao']} - R$ {(t['valor'])}\")\n",
        "\n",
        "def imprimirSaldo():\n",
        "  print(f'Salto atual: {calcularSaldo()}')\n",
        "\n",
        "def calcularSaldo():\n",
        "  valorTotal = 0.0\n",
        "\n",
        "  for i in (transacoes):\n",
        "    if i['tipo'] == 1:\n",
        "      valorTotal += i['valor']\n",
        "    else:\n",
        "      valorTotal -= i['valor']\n",
        "\n",
        "  return valorTotal\n",
        "\n",
        "\n",
        "while True:\n",
        "  servico = int(input('\\nInsira o serviço desejado: \\n1-Adicionar transação\\n2-Ver saldo\\n3-Ver histórico de transações\\n4-Sair\\n5-Calcular e exibir saldo\\n---------------------------\\n'))\n",
        "\n",
        "  if servico == 1:\n",
        "    cadastrarTransacao()\n",
        "  elif servico == 2:\n",
        "    imprimirSaldo()\n",
        "  elif servico == 3:\n",
        "    imprimirTransacao()\n",
        "  elif servico == 4:\n",
        "    break\n",
        "  elif servico == 5:\n",
        "    imprimirSaldo()"
      ],
      "metadata": {
        "id": "FOtsBTYecOUJ",
        "outputId": "5b213d3b-025c-4346-992a-0bb3c5799ab9",
        "colab": {
          "base_uri": "https://localhost:8080/",
          "height": 651
        }
      },
      "execution_count": 10,
      "outputs": [
        {
          "output_type": "stream",
          "name": "stdout",
          "text": [
            "Bem-vinda ao banco!\n",
            "\n",
            "Insira o serviço desejado: \n",
            "1-Adicionar transação\n",
            "2-Ver saldo\n",
            "3-Ver histórico de transações\n",
            "4-Sair\n",
            "5-Calcular e exibir saldo\n",
            "---------------------------\n",
            "1\n",
            "\n",
            "Insira o tipo de transação que deseja: (1-Entrada e 2-Saída)\n",
            "5\n",
            "Tipo inválido!\n"
          ]
        },
        {
          "output_type": "error",
          "ename": "KeyboardInterrupt",
          "evalue": "Interrupted by user",
          "traceback": [
            "\u001b[0;31m---------------------------------------------------------------------------\u001b[0m",
            "\u001b[0;31mKeyboardInterrupt\u001b[0m                         Traceback (most recent call last)",
            "\u001b[0;32m/tmp/ipython-input-10-4097019741.py\u001b[0m in \u001b[0;36m<cell line: 0>\u001b[0;34m()\u001b[0m\n\u001b[1;32m     42\u001b[0m \u001b[0;34m\u001b[0m\u001b[0m\n\u001b[1;32m     43\u001b[0m \u001b[0;32mwhile\u001b[0m \u001b[0;32mTrue\u001b[0m\u001b[0;34m:\u001b[0m\u001b[0;34m\u001b[0m\u001b[0;34m\u001b[0m\u001b[0m\n\u001b[0;32m---> 44\u001b[0;31m   \u001b[0mservico\u001b[0m \u001b[0;34m=\u001b[0m \u001b[0mint\u001b[0m\u001b[0;34m(\u001b[0m\u001b[0minput\u001b[0m\u001b[0;34m(\u001b[0m\u001b[0;34m'\\nInsira o serviço desejado: \\n1-Adicionar transação\\n2-Ver saldo\\n3-Ver histórico de transações\\n4-Sair\\n5-Calcular e exibir saldo\\n---------------------------\\n'\u001b[0m\u001b[0;34m)\u001b[0m\u001b[0;34m)\u001b[0m\u001b[0;34m\u001b[0m\u001b[0;34m\u001b[0m\u001b[0m\n\u001b[0m\u001b[1;32m     45\u001b[0m \u001b[0;34m\u001b[0m\u001b[0m\n\u001b[1;32m     46\u001b[0m   \u001b[0;32mif\u001b[0m \u001b[0mservico\u001b[0m \u001b[0;34m==\u001b[0m \u001b[0;36m1\u001b[0m\u001b[0;34m:\u001b[0m\u001b[0;34m\u001b[0m\u001b[0;34m\u001b[0m\u001b[0m\n",
            "\u001b[0;32m/usr/local/lib/python3.11/dist-packages/ipykernel/kernelbase.py\u001b[0m in \u001b[0;36mraw_input\u001b[0;34m(self, prompt)\u001b[0m\n\u001b[1;32m   1175\u001b[0m                 \u001b[0;34m\"raw_input was called, but this frontend does not support input requests.\"\u001b[0m\u001b[0;34m\u001b[0m\u001b[0;34m\u001b[0m\u001b[0m\n\u001b[1;32m   1176\u001b[0m             )\n\u001b[0;32m-> 1177\u001b[0;31m         return self._input_request(\n\u001b[0m\u001b[1;32m   1178\u001b[0m             \u001b[0mstr\u001b[0m\u001b[0;34m(\u001b[0m\u001b[0mprompt\u001b[0m\u001b[0;34m)\u001b[0m\u001b[0;34m,\u001b[0m\u001b[0;34m\u001b[0m\u001b[0;34m\u001b[0m\u001b[0m\n\u001b[1;32m   1179\u001b[0m             \u001b[0mself\u001b[0m\u001b[0;34m.\u001b[0m\u001b[0m_parent_ident\u001b[0m\u001b[0;34m[\u001b[0m\u001b[0;34m\"shell\"\u001b[0m\u001b[0;34m]\u001b[0m\u001b[0;34m,\u001b[0m\u001b[0;34m\u001b[0m\u001b[0;34m\u001b[0m\u001b[0m\n",
            "\u001b[0;32m/usr/local/lib/python3.11/dist-packages/ipykernel/kernelbase.py\u001b[0m in \u001b[0;36m_input_request\u001b[0;34m(self, prompt, ident, parent, password)\u001b[0m\n\u001b[1;32m   1217\u001b[0m             \u001b[0;32mexcept\u001b[0m \u001b[0mKeyboardInterrupt\u001b[0m\u001b[0;34m:\u001b[0m\u001b[0;34m\u001b[0m\u001b[0;34m\u001b[0m\u001b[0m\n\u001b[1;32m   1218\u001b[0m                 \u001b[0;31m# re-raise KeyboardInterrupt, to truncate traceback\u001b[0m\u001b[0;34m\u001b[0m\u001b[0;34m\u001b[0m\u001b[0m\n\u001b[0;32m-> 1219\u001b[0;31m                 \u001b[0;32mraise\u001b[0m \u001b[0mKeyboardInterrupt\u001b[0m\u001b[0;34m(\u001b[0m\u001b[0;34m\"Interrupted by user\"\u001b[0m\u001b[0;34m)\u001b[0m \u001b[0;32mfrom\u001b[0m \u001b[0;32mNone\u001b[0m\u001b[0;34m\u001b[0m\u001b[0;34m\u001b[0m\u001b[0m\n\u001b[0m\u001b[1;32m   1220\u001b[0m             \u001b[0;32mexcept\u001b[0m \u001b[0mException\u001b[0m\u001b[0;34m:\u001b[0m\u001b[0;34m\u001b[0m\u001b[0;34m\u001b[0m\u001b[0m\n\u001b[1;32m   1221\u001b[0m                 \u001b[0mself\u001b[0m\u001b[0;34m.\u001b[0m\u001b[0mlog\u001b[0m\u001b[0;34m.\u001b[0m\u001b[0mwarning\u001b[0m\u001b[0;34m(\u001b[0m\u001b[0;34m\"Invalid Message:\"\u001b[0m\u001b[0;34m,\u001b[0m \u001b[0mexc_info\u001b[0m\u001b[0;34m=\u001b[0m\u001b[0;32mTrue\u001b[0m\u001b[0;34m)\u001b[0m\u001b[0;34m\u001b[0m\u001b[0;34m\u001b[0m\u001b[0m\n",
            "\u001b[0;31mKeyboardInterrupt\u001b[0m: Interrupted by user"
          ]
        }
      ]
    },
    {
      "cell_type": "markdown",
      "source": [
        "DESAFIO 5\n",
        "\n",
        "Escreva um programa que peça o valor total da compra e aplique um desconto baseado em faixas:\n",
        "\n",
        "Até R$100 → sem desconto\n",
        "\n",
        "De R$ 100,01 a R$$300 → 10%\n",
        "\n",
        "De R$ 300,01 a R$$500 → 15%\n",
        "\n",
        "\n",
        "Acima de R$500 → 20%"
      ],
      "metadata": {
        "id": "cpVCv8m5QNm9"
      }
    },
    {
      "cell_type": "code",
      "source": [
        "valorTotal = float(input('Insira o valor total da compra: '))\n",
        "valorComDesconto = 0.0\n",
        "\n",
        "if valorTotal > 500:\n",
        "  valorComDesconto = valorTotal - ((valorTotal * 20)/100)\n",
        "elif 300 < valorTotal <= 500:\n",
        "  valorComDesconto = valorTotal - ((valorTotal * 15)/100)\n",
        "elif 100 < valorTotal <= 300:\n",
        "  valorComDesconto = valorTotal - ((valorTotal * 10)/100)\n",
        "else:\n",
        "  valorComDesconto = valorTotal\n",
        "\n",
        "print(f'Valor com desconto {valorComDesconto}')"
      ],
      "metadata": {
        "id": "rGHbvDFVcGzy",
        "outputId": "59d30d7a-4ddb-41f0-88f3-a3e351dadd8c",
        "colab": {
          "base_uri": "https://localhost:8080/"
        }
      },
      "execution_count": 48,
      "outputs": [
        {
          "output_type": "stream",
          "name": "stdout",
          "text": [
            "Insira o valor total da compra: 700\n",
            "Valor com desconto 560.0\n"
          ]
        }
      ]
    }
  ]
}