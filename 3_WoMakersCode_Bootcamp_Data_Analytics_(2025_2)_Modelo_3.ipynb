{
  "nbformat": 4,
  "nbformat_minor": 0,
  "metadata": {
    "colab": {
      "provenance": [],
      "include_colab_link": true
    },
    "kernelspec": {
      "name": "python3",
      "display_name": "Python 3"
    },
    "language_info": {
      "name": "python"
    }
  },
  "cells": [
    {
      "cell_type": "markdown",
      "metadata": {
        "id": "view-in-github",
        "colab_type": "text"
      },
      "source": [
        "<a href=\"https://colab.research.google.com/github/AnaBeCosta/processo-womakerscode/blob/main/3_WoMakersCode_Bootcamp_Data_Analytics_(2025_2)_Modelo_3.ipynb\" target=\"_parent\"><img src=\"https://colab.research.google.com/assets/colab-badge.svg\" alt=\"Open In Colab\"/></a>"
      ]
    },
    {
      "cell_type": "markdown",
      "source": [
        "DESAFIO 1\n",
        "\n",
        "Solicite três notas (de 0 a 10), calcule a média e exiba o conceito correspondente:\n",
        "\n",
        "A: média ≥ 9\n",
        "\n",
        "B: média ≥ 7 e < 9\n",
        "\n",
        "C: média ≥ 6 e < 7\n",
        "\n",
        "D: média < 6\n",
        "\n",
        "Informe o conceito e se o aluno foi aprovado (conceito A, B ou C) ou reprovado (conceito D)."
      ],
      "metadata": {
        "id": "fZu819fMQNKI"
      }
    },
    {
      "cell_type": "code",
      "source": [
        "nota1 = int(input('Insira a nota 1: '))\n",
        "nota2 = int(input('Insira a nota 2: '))\n",
        "nota3 = int(input('Insira a nota 3: '))\n",
        "\n",
        "media = int((nota1 + nota2 + nota3) / 3)\n",
        "\n",
        "print('\\n')\n",
        "if media >=9:\n",
        "  print(f'Média {media}, conceito A.\\nAprovada!')\n",
        "elif 7<= media <9:\n",
        "  print(f'Média {media}, conceito B.\\nAprovada!')\n",
        "elif 6<= media <7:\n",
        "  print(f'Média {media}, conceito C.\\nAprovada!')\n",
        "else:\n",
        "  print(f'Média {media}, conceito D.\\nReprovada :(')"
      ],
      "metadata": {
        "id": "tjM2VWBwQSJE",
        "outputId": "de062716-668f-45fc-a61e-d80ed6db0bb7",
        "colab": {
          "base_uri": "https://localhost:8080/"
        }
      },
      "execution_count": 22,
      "outputs": [
        {
          "output_type": "stream",
          "name": "stdout",
          "text": [
            "Insira a nota 1: 10\n",
            "Insira a nota 2: 4\n",
            "Insira a nota 3: 5\n",
            "\n",
            "\n",
            "Média 6, conceito C.\n",
            "Aprovada!\n"
          ]
        }
      ]
    },
    {
      "cell_type": "markdown",
      "source": [
        "DESAFIO 2\n",
        "\n",
        "Escreva um programa que receba uma string e mostre quantas vezes cada vogal (a, e, i, o, u) aparece na frase."
      ],
      "metadata": {
        "id": "_m8mBod2g9Iv"
      }
    },
    {
      "cell_type": "code",
      "source": [
        "palavra = input('Insira a palavra:')\n",
        "\n",
        "vogais = {\n",
        "    'a': 0,\n",
        "    'e': 0,\n",
        "    'i': 0,\n",
        "    'o': 0,\n",
        "    'u': 0\n",
        "}\n",
        "\n",
        "for i in palavra:\n",
        "  if i in vogais:\n",
        "    vogais[i] += 1\n",
        "\n",
        "print('\\n')\n",
        "print(vogais)"
      ],
      "metadata": {
        "id": "G3MkSdjIfMay",
        "outputId": "38e923c4-e69f-4ed8-9010-f3993b062554",
        "colab": {
          "base_uri": "https://localhost:8080/"
        }
      },
      "execution_count": 26,
      "outputs": [
        {
          "output_type": "stream",
          "name": "stdout",
          "text": [
            "Insira a palavra:cabeça\n",
            "\n",
            "\n",
            "{'a': 2, 'e': 1, 'i': 0, 'o': 0, 'u': 0}\n"
          ]
        }
      ]
    },
    {
      "cell_type": "markdown",
      "source": [
        "DESAFIO 3\n",
        "\n",
        "Escreva um programa em que o computador escolhe um número entre 1 e 100.\n",
        "\n",
        "O usuário tenta adivinhar até acertar, e ao final, o programa informa quantas tentativas foram necessárias.\n"
      ],
      "metadata": {
        "id": "azEJl_Q6cFFz"
      }
    },
    {
      "cell_type": "code",
      "source": [
        "#Execute seu código aqui"
      ],
      "metadata": {
        "id": "4kz8g_Z5qGB1"
      },
      "execution_count": null,
      "outputs": []
    },
    {
      "cell_type": "markdown",
      "source": [
        "DESAFIO 4\n",
        "\n",
        "Permita ao usuário:\n",
        "\n",
        "Adicionar uma despesa ou receita (descrição, valor, tipo: entrada ou saída)\n",
        "\n",
        "Ver saldo atual\n",
        "\n",
        "Ver todas as transações\n",
        "\n",
        "Sair do programa\n",
        "\n",
        "Calcule e exiba o saldo total com base nas transações."
      ],
      "metadata": {
        "id": "qk4Gw-GAqFjY"
      }
    },
    {
      "cell_type": "code",
      "source": [
        "transacoes = []\n",
        "\n",
        "print('Bem-vinda ao banco!')\n",
        "\n",
        "while True:\n",
        "  servico = int(input('\\nInsira o serviço desejado: \\n1-Adicionar transação\\n2-Ver saldo\\n3-Ver histórico de transações\\n4-Sair\\n5-Calcular e exibir saldo\\n---------------------------\\n'))\n",
        "\n",
        "  if servico == 1:\n",
        "    cadastrarTransacao()\n",
        "  elif servico == 2:\n",
        "    imprimirSaldo()\n",
        "  elif servico == 3:\n",
        "    imprimirTransacao()\n",
        "  elif servico == 4:\n",
        "    break\n",
        "  elif servico == 5:\n",
        "    imprimirSaldo()"
      ],
      "metadata": {
        "id": "FOtsBTYecOUJ",
        "outputId": "f33061b3-2f2b-45e2-c4df-f9e564c757f6",
        "colab": {
          "base_uri": "https://localhost:8080/"
        }
      },
      "execution_count": 34,
      "outputs": [
        {
          "name": "stdout",
          "output_type": "stream",
          "text": [
            "Bem-vinda ao banco!\n",
            "\n",
            "Insira o serviço desejado: \n",
            "1-Adicionar transação\n",
            "2-Ver saldo\n",
            "3-Ver histórico de transações\n",
            "4-Sair\n",
            "5-Calcular e exibir saldo\n",
            "---------------------------\n",
            "4\n"
          ]
        }
      ]
    },
    {
      "cell_type": "markdown",
      "source": [
        "DESAFIO 5\n",
        "\n",
        "Escreva um programa que peça o valor total da compra e aplique um desconto baseado em faixas:\n",
        "\n",
        "Até R$100 → sem desconto\n",
        "\n",
        "De R$ 100,01 a R$$300 → 10%\n",
        "\n",
        "De R$ 300,01 a R$$500 → 15%\n",
        "\n",
        "\n",
        "Acima de R$500 → 20%"
      ],
      "metadata": {
        "id": "cpVCv8m5QNm9"
      }
    },
    {
      "cell_type": "code",
      "source": [
        "valorTotal = float(input('Insira o valor total da compra: '))\n",
        "valorComDesconto = 0.0\n",
        "\n",
        "if valorTotal > 500:\n",
        "  valorComDesconto = valorTotal - ((valorTotal * 20)/100)\n",
        "elif 300 < valorTotal <= 500:\n",
        "  valorComDesconto = valorTotal - ((valorTotal * 15)/100)\n",
        "elif 100 < valorTotal <= 300:\n",
        "  valorComDesconto = valorTotal - ((valorTotal * 10)/100)\n",
        "else:\n",
        "  valorComDesconto = valorTotal\n",
        "\n",
        "print(f'Valor com desconto {valorComDesconto}')"
      ],
      "metadata": {
        "id": "rGHbvDFVcGzy",
        "outputId": "b683a33c-d6e8-4a74-c6fa-563f3d97d3a6",
        "colab": {
          "base_uri": "https://localhost:8080/"
        }
      },
      "execution_count": 12,
      "outputs": [
        {
          "output_type": "stream",
          "name": "stdout",
          "text": [
            "Insira o valor total da compra: 302\n",
            "Valor com desconto 256.7\n"
          ]
        }
      ]
    }
  ]
}